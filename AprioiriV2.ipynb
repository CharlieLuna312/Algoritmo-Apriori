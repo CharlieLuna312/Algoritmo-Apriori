{
  "nbformat": 4,
  "nbformat_minor": 0,
  "metadata": {
    "colab": {
      "name": "AprioiriV2.ipynb",
      "provenance": []
    },
    "kernelspec": {
      "name": "python3",
      "display_name": "Python 3"
    },
    "language_info": {
      "name": "python"
    }
  },
  "cells": [
    {
      "cell_type": "markdown",
      "metadata": {
        "id": "eZLPN_J1eBmJ"
      },
      "source": [
        "#**IMPLEMENTACIÓN Y PRUEBA DEL ALGORITMO APRIORI**"
      ]
    },
    {
      "cell_type": "markdown",
      "metadata": {
        "id": "HlfnQk_OgtH9"
      },
      "source": [
        "##Estudiante: Charlie Joel Luna Ccasani\n",
        "##Código: 161368"
      ]
    },
    {
      "cell_type": "markdown",
      "metadata": {
        "id": "5vb1M68WhxgC"
      },
      "source": [
        "##Importamos librerías"
      ]
    },
    {
      "cell_type": "code",
      "metadata": {
        "id": "SoibukGkdxAa"
      },
      "source": [
        "import numpy as np  \n",
        "import matplotlib.pyplot as plt  \n",
        "import pandas as pd  "
      ],
      "execution_count": 1,
      "outputs": []
    },
    {
      "cell_type": "markdown",
      "metadata": {
        "id": "PrqDaLS_YsRg"
      },
      "source": [
        "##Leemos el dataset"
      ]
    },
    {
      "cell_type": "code",
      "metadata": {
        "colab": {
          "base_uri": "https://localhost:8080/"
        },
        "id": "fBKllmQe7igV",
        "outputId": "2012c8f5-8108-4930-b742-66d1db93c9b3"
      },
      "source": [
        "Data = np.load('spotify.npy',allow_pickle=True)\n",
        "print(\"¡Se han registrado \",len(Data.tolist()),\" play list!\")"
      ],
      "execution_count": 5,
      "outputs": [
        {
          "output_type": "stream",
          "name": "stdout",
          "text": [
            "¡Se han registrado  10000  play list!\n"
          ]
        }
      ]
    },
    {
      "cell_type": "markdown",
      "metadata": {
        "id": "ArLY1irmYyL2"
      },
      "source": [
        "##Realizamos un preprocesamiento de datos (ordenar alfabéticamente y todo a mayúsculas)"
      ]
    },
    {
      "cell_type": "code",
      "metadata": {
        "colab": {
          "base_uri": "https://localhost:8080/"
        },
        "id": "hJiMeMEA77PB",
        "outputId": "b66cce26-8043-45c2-de94-f85752f85734"
      },
      "source": [
        "#Utlizaremos la primera décima parte de los datos\n",
        "#Recuperaremos los n primeros datos del .npy en una matriz\n",
        "def Convertir_a_Mayusculas(Lista):\n",
        "  for K in range(len(Lista)):\n",
        "    Lista[K]=Lista[K].upper()\n",
        "  return(Lista)\n",
        "def ExtraerDatos(Data,N):\n",
        "  SubData=[]\n",
        "  for K in range(N):\n",
        "    Aux=Data.tolist()[K]\n",
        "    Aux.sort()\n",
        "    Aux=Convertir_a_Mayusculas(Aux)\n",
        "    SubData=SubData+[Aux]\n",
        "  print(\"Extraímos \",len(SubData),\" listas de \",len(Data.tolist()))\n",
        "  return(SubData)\n",
        "#Utlizamos el módulo creado\n",
        "#Extraemos 1000 play list\n",
        "Datos=ExtraerDatos(Data,200)"
      ],
      "execution_count": 37,
      "outputs": [
        {
          "output_type": "stream",
          "name": "stdout",
          "text": [
            "Extraímos  200  listas de  10000\n"
          ]
        }
      ]
    },
    {
      "cell_type": "markdown",
      "metadata": {
        "id": "Z-CRYBigB3Q4"
      },
      "source": [
        "##Algoritmo Apriori"
      ]
    },
    {
      "cell_type": "code",
      "metadata": {
        "colab": {
          "base_uri": "https://localhost:8080/"
        },
        "id": "Un1iROA9BeXy",
        "outputId": "52de0b00-6eb2-4f86-ba7f-6dfd657b1602"
      },
      "source": [
        "#Módulo que obtiene el supor count de un data set\n",
        "#Input : Matriz (lista de listas)\n",
        "#Output: Diccionario de elementos diferentes y suport\n",
        "def ContarItemsDiferentes(Data):\n",
        "  ItemSet={}\n",
        "  for Fila in Data:\n",
        "    for Item in Fila:\n",
        "      if Item not in ItemSet:\n",
        "        ItemSet[Item]=1\n",
        "      else:\n",
        "        ContadorAux=ItemSet.get(Item)\n",
        "        ItemSet.update({Item:ContadorAux+1})\n",
        "  return ItemSet\n",
        "#----------------------------\n",
        "Item=ContarItemsDiferentes(Datos)\n",
        "print(\"Se registraron \",len(Item),\" canciones diferentes\")"
      ],
      "execution_count": 38,
      "outputs": [
        {
          "output_type": "stream",
          "name": "stdout",
          "text": [
            "Se registraron  9036  canciones diferentes\n"
          ]
        }
      ]
    },
    {
      "cell_type": "code",
      "metadata": {
        "colab": {
          "base_uri": "https://localhost:8080/"
        },
        "id": "jv0G6_6QDPS8",
        "outputId": "9c39e28e-d89e-4cd9-e78c-e9585331e12a"
      },
      "source": [
        "#Módulo para ver algunas canciones encontradas\n",
        "def MostrarAlgunasCanciones(Diccionario,N):\n",
        "  K=0\n",
        "  for key,values in Diccionario.items():\n",
        "    if(K<N):\n",
        "      print(key,\" - \",values)\n",
        "    else:\n",
        "      break\n",
        "    K=K+1\n",
        "#-------------------------\n",
        "MostrarAlgunasCanciones(Item,10)"
      ],
      "execution_count": 39,
      "outputs": [
        {
          "output_type": "stream",
          "name": "stdout",
          "text": [
            "A THOUSAND MILES  -  4\n",
            "ALL THE SMALL THINGS  -  5\n",
            "BABY  -  4\n",
            "BEAUTIFUL SOUL  -  3\n",
            "BEEP  -  1\n",
            "BUTTONS  -  3\n",
            "CHECK ON IT - FEAT. BUN B AND SLIM THUG  -  1\n",
            "CHECK YES JULIET  -  1\n",
            "CLOSER  -  18\n",
            "CRAZY IN LOVE  -  7\n"
          ]
        }
      ]
    },
    {
      "cell_type": "markdown",
      "metadata": {
        "id": "t3xQAZAwZUUk"
      },
      "source": [
        "##Definimos algunos módulos que ayudarán para realizar el algoritmo Apriori"
      ]
    },
    {
      "cell_type": "code",
      "metadata": {
        "id": "1fqNGERPEyKE"
      },
      "source": [
        "#Módulo para buscar una SubLista en una Lista\n",
        "def BuscarSubItems1(SubLista,Lista):\n",
        "    Cont=0\n",
        "    for Item in SubLista:\n",
        "        if(Item in Lista):\n",
        "            Cont+=1\n",
        "        else:\n",
        "            break\n",
        "    if(Cont==len(SubLista)):\n",
        "        return True\n",
        "    else:\n",
        "        return False\n",
        "\n",
        "#Módulo para buscar una SubLista en una matriz de Listas\n",
        "def BuscarSubItems2(SubItem,Lista):\n",
        "    Contador=0\n",
        "    for SubLista in Lista:\n",
        "        if(BuscarSubItems1(SubItem,SubLista)==True):\n",
        "            Contador+=1\n",
        "    return(Contador)\n",
        "\n",
        "#Combinar elementos de una lista\n",
        "def CombinarTodos(Lista):\n",
        "    Combinaciones=[]\n",
        "    Inicio=1\n",
        "    Fin=len(Lista)\n",
        "    for Item in Lista:\n",
        "        for K in range(Inicio,Fin):\n",
        "            Aux=[Item,Lista[K]]\n",
        "            Combinaciones=Combinaciones+[Aux]\n",
        "        Inicio+=1\n",
        "    print(\"Se registró \",len(Combinaciones),\" combinaciones\")\n",
        "    return Combinaciones\n",
        "\n",
        "#Generar una lista desde un diccionario analizando el MinSuport\n",
        "def GenerarListaDeUnDiccionario(Dic,MinSuport):\n",
        "    Lista=[]\n",
        "    for Key,Values in Dic.items():\n",
        "        if(Values>=MinSuport):\n",
        "            Lista+=[Key]\n",
        "    return Lista\n",
        "\n",
        "#Recuperar combinaciones que superan el minsuport\n",
        "def FiltrarCombinaciones(Combinaciones,Datos,MinSuport):\n",
        "    Suport=[]\n",
        "    IndicesParaEliminar=[]\n",
        "    for K in range(len(Combinaciones)):\n",
        "        X=BuscarSubItems2(Combinaciones[K],Datos)\n",
        "        if(X<MinSuport):\n",
        "            IndicesParaEliminar=IndicesParaEliminar+[K]\n",
        "        Suport=Suport+[X]\n",
        "    print(\"Se han eliminado \",len(IndicesParaEliminar),\" combinaciones\")\n",
        "    Fin=len(IndicesParaEliminar)-1\n",
        "    for J in range(Fin,-1,-1):\n",
        "        Combinaciones.pop(IndicesParaEliminar[J])\n",
        "        Suport.pop(IndicesParaEliminar[J])\n",
        "    print(\"Tenemos \",len(Combinaciones),\" combinaciones\")\n",
        "    return(Combinaciones,Suport)"
      ],
      "execution_count": 40,
      "outputs": []
    },
    {
      "cell_type": "markdown",
      "metadata": {
        "id": "d8DOSL-AZbC5"
      },
      "source": [
        "##Aplicamos todas las funciones previamente definidas para obtener las relaciones más relevantes"
      ]
    },
    {
      "cell_type": "code",
      "metadata": {
        "colab": {
          "base_uri": "https://localhost:8080/"
        },
        "id": "rJi_xTxFFQau",
        "outputId": "718215db-33b8-43ef-f9e9-3ff959814f47"
      },
      "source": [
        "# 1.Generar matriz de los datos\n",
        "# 2.Contar elementos diferentes y la frecuencia de estos en un Diccionario\n",
        "# 3.Generar la lista base para generar la primera combinación\n",
        "MinSuport=5\n",
        "Lista=GenerarListaDeUnDiccionario(Item,MinSuport)\n",
        "# 4.Primera combinación\n",
        "Combinaciones=CombinarTodos(Lista)\n",
        "# 5.Filtrar las combinaciones que superan al MinSuport\n",
        "Combinaciones,Soporte=FiltrarCombinaciones(Combinaciones,Datos,MinSuport)\n",
        "print(\"Se han registrado \",len(Combinaciones),\" que superaron el minsuport = \",MinSuport)"
      ],
      "execution_count": 41,
      "outputs": [
        {
          "output_type": "stream",
          "name": "stdout",
          "text": [
            "Se registró  30628  combinaciones\n",
            "Se han eliminado  30601  combinaciones\n",
            "Tenemos  27  combinaciones\n",
            "Se han registrado  27  que superaron el minsuport =  5\n"
          ]
        }
      ]
    },
    {
      "cell_type": "markdown",
      "metadata": {
        "id": "8YiDMFxTZoPd"
      },
      "source": [
        "##Definimos un módulo para calcular la confianza de la regla encontrada"
      ]
    },
    {
      "cell_type": "code",
      "metadata": {
        "id": "4Xn1SbQDSZH2"
      },
      "source": [
        "def Confianza(ITEM,Regla,Suport):\n",
        "  X=Regla[0]\n",
        "  Denominador=ITEM[X]\n",
        "  return(Suport/Denominador)"
      ],
      "execution_count": 44,
      "outputs": []
    },
    {
      "cell_type": "markdown",
      "metadata": {
        "id": "7uOtQs4OZ0iJ"
      },
      "source": [
        "##Mostramos algunas reglas que superan la confianza del 60% y un minsuport de 5"
      ]
    },
    {
      "cell_type": "code",
      "metadata": {
        "colab": {
          "base_uri": "https://localhost:8080/"
        },
        "id": "0rstml2oTNyq",
        "outputId": "b9714952-f2a6-4a7d-9d88-6aef796164e7"
      },
      "source": [
        "#Mostrando resultados\n",
        "def GenerarReglas(ITEMS,ItemsFrecuentes,SoporteDeItems,Confidence):\n",
        "  K=0\n",
        "  Top=0\n",
        "  for K in range(len(ItemsFrecuentes)):\n",
        "    Confi=Confianza(ITEMS,ItemsFrecuentes[K],SoporteDeItems[K])\n",
        "    if(Confi>Confidence):\n",
        "      Text=ItemsFrecuentes[K]\n",
        "      Text1=Text[0]\n",
        "      Text2=Text[1]\n",
        "      Top+=1\n",
        "      print(\"________________ N°\",Top,\"______________________\")\n",
        "      print(\"    Regla :\",Text1+\" -> \",Text2)\n",
        "      print(\"  Soporte :\",SoporteDeItems[K])\n",
        "      print(\"Confianza :\",round((Confi*100),2),\"%\")\n",
        "      print(\"\")\n",
        "GenerarReglas(Item,Combinaciones,Soporte,0.6)"
      ],
      "execution_count": 54,
      "outputs": [
        {
          "output_type": "stream",
          "name": "stdout",
          "text": [
            "________________ N° 1 ______________________\n",
            "    Regla : PARTY IN THE U.S.A. ->  SORRY\n",
            "  Soporte : 5\n",
            "Confianza : 71.43 %\n",
            "\n",
            "________________ N° 2 ______________________\n",
            "    Regla : GO FLEX ->  GOOSEBUMPS\n",
            "  Soporte : 5\n",
            "Confianza : 100.0 %\n",
            "\n",
            "________________ N° 3 ______________________\n",
            "    Regla : CAKE BY THE OCEAN ->  SORRY\n",
            "  Soporte : 5\n",
            "Confianza : 83.33 %\n",
            "\n",
            "________________ N° 4 ______________________\n",
            "    Regla : SHUT UP AND DANCE ->  SORRY\n",
            "  Soporte : 5\n",
            "Confianza : 83.33 %\n",
            "\n",
            "________________ N° 5 ______________________\n",
            "    Regla : BROCCOLI (FEAT. LIL YACHTY) ->  HUMBLE.\n",
            "  Soporte : 7\n",
            "Confianza : 63.64 %\n",
            "\n",
            "________________ N° 6 ______________________\n",
            "    Regla : CAN'T STOP THE FEELING! (ORIGINAL SONG FROM DREAMWORKS ANIMATION'S \"TROLLS\") ->  WORK FROM HOME\n",
            "  Soporte : 5\n",
            "Confianza : 100.0 %\n",
            "\n",
            "________________ N° 7 ______________________\n",
            "    Regla : ON MY MIND ->  ROSES\n",
            "  Soporte : 5\n",
            "Confianza : 100.0 %\n",
            "\n",
            "________________ N° 8 ______________________\n",
            "    Regla : ON MY MIND ->  SORRY\n",
            "  Soporte : 5\n",
            "Confianza : 100.0 %\n",
            "\n",
            "________________ N° 9 ______________________\n",
            "    Regla : THIS IS WHAT YOU CAME FOR ->  WORK FROM HOME\n",
            "  Soporte : 5\n",
            "Confianza : 100.0 %\n",
            "\n",
            "________________ N° 10 ______________________\n",
            "    Regla : RADIOACTIVE ->  DEMONS\n",
            "  Soporte : 5\n",
            "Confianza : 62.5 %\n",
            "\n",
            "________________ N° 11 ______________________\n",
            "    Regla : SUGAR ->  WANT TO WANT ME\n",
            "  Soporte : 5\n",
            "Confianza : 62.5 %\n",
            "\n",
            "________________ N° 12 ______________________\n",
            "    Regla : 'TILL I COLLAPSE ->  X GON' GIVE IT TO YA\n",
            "  Soporte : 5\n",
            "Confianza : 100.0 %\n",
            "\n"
          ]
        }
      ]
    },
    {
      "cell_type": "markdown",
      "metadata": {
        "id": "ypuJRxcwab2D"
      },
      "source": [
        "###NOTA: El resultado muestra las mejores 12 reglas obtenidas; se consideró un minsuport de 5 en vista de que utilizamos pocos datos (200); sin embargo, filtramos las reglas con una confianza del 60% para obtener resultados de calidad."
      ]
    },
    {
      "cell_type": "markdown",
      "metadata": {
        "id": "FEzmKz9UbVg1"
      },
      "source": [
        "###NOTA 2: Analizaremos las siguientes reglas con 100% de confianza y soporte 5\n",
        "1. GO FLEX ->  GOOSEBUMPS, ambas canciones son de Hip-hop/rap\n",
        "2. CAN'T STOP THE FEELING! (ORIGINAL SONG FROM DREAMWORKS ANIMATION'S \"TROLLS\") ->  WORK FROM HOME, ambas canciones son Pop\n",
        "3. ON MY MIND ->  ROSES, en este caso el género de las canciones son diferentes pero no son tan lejanas (Pop y Rock)\n",
        "4. ON MY MIND ->  SORRY, ambas canciones son Pop"
      ]
    }
  ]
}